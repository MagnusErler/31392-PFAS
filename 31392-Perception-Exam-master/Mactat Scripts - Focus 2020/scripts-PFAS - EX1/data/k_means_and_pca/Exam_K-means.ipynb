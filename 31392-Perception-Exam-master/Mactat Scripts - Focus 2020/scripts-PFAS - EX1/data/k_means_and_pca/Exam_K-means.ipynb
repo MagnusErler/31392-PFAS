{
 "cells": [
  {
   "cell_type": "code",
   "execution_count": 1,
   "metadata": {
    "scrolled": true
   },
   "outputs": [],
   "source": [
    "import matplotlib.pyplot as plt  \n",
    "from matplotlib import style \n",
    "from sklearn.cluster import KMeans \n",
    "from sklearn.datasets.samples_generator import make_blobs \n",
    "from sklearn.decomposition import PCA\n",
    "import numpy as np\n",
    "\n",
    "# Loading the data\n",
    "X = np.loadtxt('clusters.txt', dtype=int)"
   ]
  },
  {
   "cell_type": "markdown",
   "metadata": {},
   "source": [
    "# Sub-Question A - K-means\n",
    "Given the dataset 'clusters.txt' that has been read into the variable X, find how many clusters are optimal for this dataset using the elbow method.\n",
    "\n",
    "\n",
    "Recall you call Kmeans:\n",
    "```{python}\n",
    "km = KMeans(n_clusters = n)\n",
    "km.fit(X)\n",
    "```\n",
    "Documentation:\n",
    "https://scikit-learn.org/stable/modules/generated/sklearn.cluster.KMeans.html"
   ]
  }
 ],
 "metadata": {
  "kernelspec": {
   "display_name": "Python 3",
   "language": "python",
   "name": "python3"
  },
  "language_info": {
   "codemirror_mode": {
    "name": "ipython",
    "version": 3
   },
   "file_extension": ".py",
   "mimetype": "text/x-python",
   "name": "python",
   "nbconvert_exporter": "python",
   "pygments_lexer": "ipython3",
   "version": "3.7.3"
  }
 },
 "nbformat": 4,
 "nbformat_minor": 4
}
