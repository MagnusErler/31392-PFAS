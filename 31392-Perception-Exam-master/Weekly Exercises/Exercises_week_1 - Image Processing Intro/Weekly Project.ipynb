{
 "cells": [
  {
   "cell_type": "markdown",
   "metadata": {},
   "source": [
    "# Weekly project part 1\n",
    "    Using the image \"appletree.jpg\"\n",
    "    A) Can you segment the apples from the tree?\n",
    "    B) Can you get the computer to count how many there are? \n",
    "        How close can you get there are 26.\n",
    "    C) Can you change color of one of them?\n",
    "    D) Can you segment the leaves?\n",
    "    \n",
    "    \n",
    "# Weekly project part 2\n",
    "    A) Remove the greenscreen and replace the background in \"itssp.png\"?\n",
    "    B) Can improve the edge with erroding/dialating?\n"
   ]
  },
  {
   "cell_type": "code",
   "execution_count": null,
   "metadata": {},
   "outputs": [],
   "source": []
  }
 ],
 "metadata": {
  "kernelspec": {
   "display_name": "Python 3",
   "language": "python",
   "name": "python3"
  },
  "language_info": {
   "codemirror_mode": {
    "name": "ipython",
    "version": 3
   },
   "file_extension": ".py",
   "mimetype": "text/x-python",
   "name": "python",
   "nbconvert_exporter": "python",
   "pygments_lexer": "ipython3",
   "version": "3.8.3"
  }
 },
 "nbformat": 4,
 "nbformat_minor": 4
}
