{
 "cells": [
  {
   "cell_type": "code",
   "execution_count": 1,
   "metadata": {},
   "outputs": [],
   "source": [
    "from sklearn.model_selection import train_test_split\n",
    "import numpy as np\n",
    "from sklearn import svm\n",
    "from sklearn import metrics\n",
    "x = np.loadtxt('svm_x.txt', dtype=float)\n",
    "y = np.loadtxt('svm_y.txt', dtype=int)"
   ]
  },
  {
   "cell_type": "markdown",
   "metadata": {},
   "source": [
    "# Support Vector Machine\n",
    "\n",
    "## Dataset\n",
    "Given the dataset x, y, create a good training/testing split:\n",
    "```{Python}\n",
    "X_train, X_test, y_train, y_test = train_test_split(x, y, test_size=0.3, random_state=1337)\n",
    "```\n",
    "\n",
    "## SVM\n",
    "Then, apply a support vector machine with a linear kernel on it and report the accuracy.\n",
    "\n",
    "Recall:\n",
    "```{Python}\n",
    "clf = svm.SVC(kernel=????) # Linear Kernel\n",
    "clf.fit(X_train, y_train)\n",
    "y_pred = ????\n",
    "```\n",
    "\n",
    "You can compare your predicted y's with the target y's\n",
    "```{Python}\n",
    "print(\"Accuracy:\", metrics.accuracy_score(y_test, y_pred))\n",
    "```\n",
    "What is the reported accuracy of your SVM?\n",
    "\n",
    "Documentation: https://scikit-learn.org/stable/modules/generated/sklearn.svm.SVC.html"
   ]
  }
 ],
 "metadata": {
  "kernelspec": {
   "display_name": "Python 3",
   "language": "python",
   "name": "python3"
  },
  "language_info": {
   "codemirror_mode": {
    "name": "ipython",
    "version": 3
   },
   "file_extension": ".py",
   "mimetype": "text/x-python",
   "name": "python",
   "nbconvert_exporter": "python",
   "pygments_lexer": "ipython3",
   "version": "3.7.3"
  }
 },
 "nbformat": 4,
 "nbformat_minor": 4
}
