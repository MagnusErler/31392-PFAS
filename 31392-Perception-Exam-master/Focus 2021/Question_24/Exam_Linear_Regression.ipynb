{
 "cells": [
  {
   "cell_type": "code",
   "execution_count": 2,
   "metadata": {},
   "outputs": [],
   "source": [
    "import numpy as np\n",
    "import open3d as o3d\n",
    "from matplotlib import pyplot as plt\n",
    "from sklearn.linear_model import LinearRegression\n",
    "from mpl_toolkits.mplot3d import Axes3D"
   ]
  },
  {
   "cell_type": "markdown",
   "metadata": {},
   "source": [
    "# Linear regression\n",
    "Given the dataset x, y apply linear regression to find the model of the form: y = ax + b\n",
    "\n",
    "What are the values of \"a\" and \"b\" in that model?\n",
    "\n",
    "Recall: \n",
    "```{Python}\n",
    "x_reshaped = x.reshape(-1, 1) #fit needs data in this shape\n",
    "# Initialize and fit model\n",
    "lm = LinearRegression()\n",
    "model = lm.fit(input, target)\n",
    "```"
   ]
  },
  {
   "cell_type": "code",
   "execution_count": 3,
   "metadata": {},
   "outputs": [
    {
     "data": {
      "image/png": "[encoded data removed]",
      "text/plain": [
       "<Figure size 576x432 with 1 Axes>"
      ]
     },
     "metadata": {
      "needs_background": "light"
     },
     "output_type": "display_data"
    }
   ],
   "source": [
    "x = np.loadtxt('lr_x.txt', dtype=float)\n",
    "y = np.loadtxt('lr_y.txt', dtype=float)\n",
    "plt.figure(figsize=(8, 6))\n",
    "plt.plot(x, y, 'ro')   # scatter plot showing actual data\n",
    "plt.xlabel('x')\n",
    "plt.ylabel('y')\n",
    "plt.show()"
   ]
  },
  {
   "cell_type": "code",
   "execution_count": 4,
   "metadata": {},
   "outputs": [],
   "source": [
    "x_reshaped = x.reshape(-1, 1) #fit needs data in this shape\n",
    "# Initialize and fit model\n",
    "lm = LinearRegression()\n",
    "model = lm.fit(x_reshaped, y)"
   ]
  },
  {
   "cell_type": "code",
   "execution_count": 5,
   "metadata": {},
   "outputs": [
    {
     "name": "stdout",
     "output_type": "stream",
     "text": [
      "[0.54587938]\n",
      "19.856337311955016\n"
     ]
    }
   ],
   "source": [
    "print(lm.coef_)\n",
    "print(lm.intercept_)"
   ]
  },
  {
   "cell_type": "code",
   "execution_count": null,
   "metadata": {},
   "outputs": [],
   "source": []
  }
 ],
 "metadata": {
  "interpreter": {
   "hash": "3bfd42ae292cb2f9d87120973d984c10c595a56d52af7ba51461d6fd839c2b76"
  },
  "kernelspec": {
   "display_name": "Python 3.7.7 64-bit",
   "language": "python",
   "name": "python3"
  },
  "language_info": {
   "codemirror_mode": {
    "name": "ipython",
    "version": 3
   },
   "file_extension": ".py",
   "mimetype": "text/x-python",
   "name": "python",
   "nbconvert_exporter": "python",
   "pygments_lexer": "ipython3",
   "version": "3.7.7"
  }
 },
 "nbformat": 4,
 "nbformat_minor": 4
}
