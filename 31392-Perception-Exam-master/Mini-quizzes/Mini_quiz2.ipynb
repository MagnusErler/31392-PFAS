{
 "cells": [
  {
   "cell_type": "markdown",
   "id": "12cc73ab-70f0-475a-a06b-71083a446559",
   "metadata": {},
   "source": [
    "# Mini quiz 2"
   ]
  },
  {
   "cell_type": "markdown",
   "id": "e8607528-2d8b-4113-873d-260d10b35361",
   "metadata": {},
   "source": [
    "## Question 1:"
   ]
  },
  {
   "cell_type": "code",
   "execution_count": 5,
   "id": "8322965c-76dc-4dcd-a594-e03d978fa775",
   "metadata": {},
   "outputs": [],
   "source": [
    "def SSD(x,y):\n",
    "  return ((A-B)**2).sum()"
   ]
  },
  {
   "cell_type": "code",
   "execution_count": 6,
   "id": "69350c21-ca50-4a03-b23f-15b4e7437c76",
   "metadata": {},
   "outputs": [
    {
     "name": "stdout",
     "output_type": "stream",
     "text": [
      "800\n"
     ]
    }
   ],
   "source": [
    "import numpy as np\n",
    "\n",
    "A = np.array([[10, 15, 20],\n",
    "              [20, 20, 25],\n",
    "              [10, 15, 20]])\n",
    "\n",
    "B = np.array([[15, 15, 15],\n",
    "              [20, 20, 20],\n",
    "              [30, 30, 30]])\n",
    "\n",
    "\n",
    "\n",
    "print(SSD(A,B))"
   ]
  },
  {
   "cell_type": "markdown",
   "id": "1c1c82e3-2d60-45bc-8e08-182e839416da",
   "metadata": {},
   "source": [
    "## Question 2:\n",
    "Found through Google\n",
    "\n",
    "## Question 3:\n",
    "Disparity value is the distance between matching pixels in images. A low value means they must be close to eachother"
   ]
  },
  {
   "cell_type": "markdown",
   "id": "8c1af1a3-4a72-4cdf-a2ab-f59af1600ad0",
   "metadata": {
    "tags": []
   },
   "source": [
    "## Question 4:\n",
    "![alt text](images/camera_matrix.jpg \"Title\")\n",
    "\n",
    "In the intrinsic properties we see the answer"
   ]
  },
  {
   "cell_type": "markdown",
   "id": "3d9bd5ec-e43c-442f-bb34-1055bebebfeb",
   "metadata": {},
   "source": [
    "## Question 5:"
   ]
  },
  {
   "cell_type": "code",
   "execution_count": 7,
   "id": "3cd28dd2-a84a-4bce-a4e5-5dd732e30982",
   "metadata": {},
   "outputs": [
    {
     "name": "stdout",
     "output_type": "stream",
     "text": [
      "872.6666666666666\n"
     ]
    }
   ],
   "source": [
    "import numpy as np\n",
    "\n",
    "#rotation + translation matrix\n",
    "RT = np.array([\n",
    "    [1, 0, 0, 0],\n",
    "    [0, 1, 0, 0],\n",
    "    [0, 0, 1, 0],\n",
    "])\n",
    "\n",
    "#camera matrix\n",
    "C = np.array([\n",
    "    [725, 0, 631],\n",
    "    [0, 726, 360],\n",
    "    [0, 0, 1]\n",
    "])\n",
    "\n",
    "#point\n",
    "p = np.array([1,1,3,1])\n",
    "\n",
    "#multiply roto-translation matrix with point and the with camera matrix\n",
    "RTp = RT.dot(p)\n",
    "result = C.dot(RTp)\n",
    "\n",
    "#don't forget to reescaaaaale!!!!!!\n",
    "print(result[0]/result[2])"
   ]
  },
  {
   "cell_type": "markdown",
   "id": "2ff9b626-b913-4627-8aee-3622c139ea0a",
   "metadata": {},
   "source": [
    "## Question 6: \n",
    "Solved through slides & Google"
   ]
  },
  {
   "cell_type": "markdown",
   "id": "41872ec8-6947-42ad-946f-e8c9e1072d6b",
   "metadata": {},
   "source": [
    "## Question 7:\n",
    "From wikipedia: \n",
    " \"the fundamental matrix F is a 3×3 matrix which relates corresponding points in stereo images.\"\n",
    " \n",
    "The essential matrix includes the rotation and translation vector. The translation vector specifyes the pose of the 2 cameras with respect to eachother"
   ]
  }
 ],
 "metadata": {
  "kernelspec": {
   "display_name": "Python 3 (ipykernel)",
   "language": "python",
   "name": "python3"
  },
  "language_info": {
   "codemirror_mode": {
    "name": "ipython",
    "version": 3
   },
   "file_extension": ".py",
   "mimetype": "text/x-python",
   "name": "python",
   "nbconvert_exporter": "python",
   "pygments_lexer": "ipython3",
   "version": "3.8.8"
  }
 },
 "nbformat": 4,
 "nbformat_minor": 5
}
