{
 "cells": [
  {
   "cell_type": "markdown",
   "id": "5688ebcf-a734-45ec-9f19-1d76d507a212",
   "metadata": {},
   "source": [
    "# Mini quiz 3"
   ]
  },
  {
   "cell_type": "markdown",
   "id": "1dea46a3-221f-4dc1-aeac-c384ea9bb34c",
   "metadata": {},
   "source": [
    "## Question 1:\n",
    "\n",
    "Wiki: \n",
    "\n",
    "\"The Iterative Closest Point algorithm contrasts with the Kabsch algorithm and other solutions to the orthogonal Procrustes problem in that the Kabsch algorithm requires correspondence between point sets as an input, whereas Iterative Closest Point treats correspondence as a variable to be estimated.\""
   ]
  },
  {
   "cell_type": "markdown",
   "id": "bcc5aee2-4ed8-4715-86a0-1ddda82effc0",
   "metadata": {},
   "source": [
    "## Question 2\n",
    "\"Inputs: reference and source point clouds, initial estimation of the transformation to align the source to the reference (optional), criteria for stopping the iterations.\"\n",
    "\n",
    "\"A rigid transformation (or isometry) is a transformation that doesn't change the size or shape of a geometric figure.\""
   ]
  },
  {
   "cell_type": "markdown",
   "id": "89dfe67e-fc85-4ca4-bb4c-796fcf7bf351",
   "metadata": {},
   "source": [
    "## Question 3\n",
    "![alt text](images/kmeans.png \"Title\")\n",
    "\n",
    "![alt text](images/kmeansDB.png \"Title\")\n",
    "Only C & E would be possible"
   ]
  },
  {
   "cell_type": "markdown",
   "id": "79e95fcc-ae90-4705-ab93-88df860e677b",
   "metadata": {},
   "source": [
    "## Question 4:\n",
    "A & C have atleast 4 points in their circle, so they are cores.\n",
    "B doesn't have enough points to be a core, but is in the neighborhood of a core point, so it is border"
   ]
  },
  {
   "cell_type": "markdown",
   "id": "b90af13b-4ab6-4c29-b185-2ce86a47a206",
   "metadata": {},
   "source": [
    "## Question 5: \n",
    "Mean shift initially considers every point a cluster:\n",
    "640 * 480 = 307200"
   ]
  },
  {
   "cell_type": "markdown",
   "id": "067affb8-3383-4f42-9029-68935295afaa",
   "metadata": {},
   "source": [
    "## Question 6:\n",
    "1. R value\n",
    "2. G value\n",
    "3. B value\n",
    "4. X-pose\n",
    "5. Y-pose"
   ]
  }
 ],
 "metadata": {
  "kernelspec": {
   "display_name": "Python 3 (ipykernel)",
   "language": "python",
   "name": "python3"
  },
  "language_info": {
   "codemirror_mode": {
    "name": "ipython",
    "version": 3
   },
   "file_extension": ".py",
   "mimetype": "text/x-python",
   "name": "python",
   "nbconvert_exporter": "python",
   "pygments_lexer": "ipython3",
   "version": "3.8.8"
  }
 },
 "nbformat": 4,
 "nbformat_minor": 5
}
