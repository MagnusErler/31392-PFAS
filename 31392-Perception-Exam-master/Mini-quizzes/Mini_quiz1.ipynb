{
 "cells": [
  {
   "cell_type": "markdown",
   "id": "a5d2ae16",
   "metadata": {},
   "source": [
    "# Mini quiz 1"
   ]
  },
  {
   "cell_type": "markdown",
   "id": "c54d49ff-d101-47c4-b2b5-476565686fc6",
   "metadata": {},
   "source": [
    "## Question 1:\n",
    "\n",
    "1023 values means we have 10 bits of data. \n",
    "\n",
    "200 * 210 * 10 = 420000"
   ]
  },
  {
   "cell_type": "markdown",
   "id": "cdc0cde3-806c-4453-8654-71d0f5dbdebf",
   "metadata": {},
   "source": [
    "## Question 2:\n",
    "\n",
    "The original blur is 9 x 9, so the next one is more blurred so must be 15 x 15"
   ]
  },
  {
   "cell_type": "markdown",
   "id": "015293bc-88e1-48be-a7bc-3065ef7dff42",
   "metadata": {},
   "source": [
    "## Question 3:"
   ]
  },
  {
   "cell_type": "code",
   "execution_count": 2,
   "id": "70789179",
   "metadata": {},
   "outputs": [
    {
     "name": "stdout",
     "output_type": "stream",
     "text": [
      "[[-0.1 -0.1 -0.1]\n",
      " [-0.1  1.8 -0.1]\n",
      " [-0.1 -0.1 -0.1]]\n"
     ]
    }
   ],
   "source": [
    "import cv2\n",
    "import numpy as np\n",
    "#question 3 \n",
    "alpha = 0.9\n",
    "\n",
    "w = np.array([[0, 0, 0],\n",
    "              [0, 1, 0],\n",
    "              [0, 0, 0]])\n",
    "\n",
    "v = (1/9)*np.array([[1, 1, 1],\n",
    "                    [1, 1, 1],\n",
    "                    [1, 1, 1]])\n",
    "\n",
    "part1 = (1 + alpha)*w\n",
    "part2 = (alpha*v)\n",
    "part3 = part1 - part2\n",
    "#f_sharp = ()\n",
    "print(part3)"
   ]
  },
  {
   "cell_type": "markdown",
   "id": "05abe72a",
   "metadata": {},
   "source": [
    "Max is 1.8 and min is -0.1"
   ]
  },
  {
   "cell_type": "markdown",
   "id": "094fc5b9",
   "metadata": {},
   "source": [
    "## Question 4:\n",
    "\n",
    "It's called resolution"
   ]
  },
  {
   "cell_type": "code",
   "execution_count": null,
   "id": "46da3da8-1e19-4c77-b51c-ad9a3f7e57f8",
   "metadata": {},
   "outputs": [],
   "source": []
  }
 ],
 "metadata": {
  "kernelspec": {
   "display_name": "Python 3 (ipykernel)",
   "language": "python",
   "name": "python3"
  },
  "language_info": {
   "codemirror_mode": {
    "name": "ipython",
    "version": 3
   },
   "file_extension": ".py",
   "mimetype": "text/x-python",
   "name": "python",
   "nbconvert_exporter": "python",
   "pygments_lexer": "ipython3",
   "version": "3.8.8"
  }
 },
 "nbformat": 4,
 "nbformat_minor": 5
}
