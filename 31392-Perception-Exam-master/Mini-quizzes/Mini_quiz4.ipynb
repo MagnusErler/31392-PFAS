{
 "cells": [
  {
   "cell_type": "markdown",
   "id": "1483dd14-4d4e-49a7-9023-3f663a09b4c6",
   "metadata": {},
   "source": [
    "# Mini quiz 4"
   ]
  },
  {
   "cell_type": "markdown",
   "id": "512ca1cc-1bdf-448a-8aab-4cdd055d9362",
   "metadata": {},
   "source": [
    "## Question 1:\n",
    "- It creates new features for each dimension\n",
    "- It is up to the user to decide which dimensions to keep. PCA shows which ones supply the most variance.\n",
    "- It works by calculating the eigenvectors and eigenvalues\n",
    "- The output describes the significance of the relationship between the original features (?)\n",
    "- It is used to reduce dimensions"
   ]
  },
  {
   "cell_type": "markdown",
   "id": "be0e9875-d45c-4cb7-92a5-28de0ea292cf",
   "metadata": {},
   "source": [
    "## Question 2\n",
    "![alt text](images/svm.png \"Title\")\n"
   ]
  },
  {
   "cell_type": "markdown",
   "id": "a589e112-b7df-4b60-bb40-299767baab47",
   "metadata": {},
   "source": [
    "## Question 3\n",
    "\"There is no structured method to find the best value for “K”. We need to find out with various values by trial and error and assuming that training data is unknown.\"  \n",
    "https://12ft.io/proxy?q=https%3A%2F%2Ftowardsdatascience.com%2Fa-simple-introduction-to-k-nearest-neighbors-algorithm-b3519ed98e"
   ]
  },
  {
   "cell_type": "markdown",
   "id": "78619511-ac69-46d2-963e-644733269a83",
   "metadata": {},
   "source": [
    "## Question 4 \n",
    "More dimensions - less accuracy  \n",
    "From best to worst\n",
    "1. 2d - 2d \n",
    "2. 3d - 2d\n",
    "3. 3d - 3d"
   ]
  },
  {
   "cell_type": "markdown",
   "id": "516d8cc5-4ea4-467e-9b21-5645edf2fcd8",
   "metadata": {},
   "source": [
    "## Question 5\n",
    "Essential Matrix for 2d - 2d  \n",
    "Perspective-n-Point (PnP) 3d - 2d  \n",
    "Iterative closest point (ICP) 3d - 3d"
   ]
  },
  {
   "cell_type": "markdown",
   "id": "235e91ce-798b-4d70-8968-66f0c53dc875",
   "metadata": {},
   "source": [
    "## Question 6"
   ]
  },
  {
   "cell_type": "code",
   "execution_count": 3,
   "id": "3763d29c-7726-4ea7-8a92-1c6a53cb66bc",
   "metadata": {},
   "outputs": [
    {
     "name": "stdout",
     "output_type": "stream",
     "text": [
      "[[40.711582 ]\n",
      " [-1.9839596]\n",
      " [96.746994 ]]\n",
      "[[-6.7099915 ]\n",
      " [ 0.23000002]\n",
      " [21.59      ]]\n"
     ]
    }
   ],
   "source": [
    "import cv2\n",
    "import numpy as np\n",
    "\n",
    "rvec = np.array([[-0.05], [-1.51], [-0.0]], dtype=np.float32)\n",
    "tvec = np.array([[87.39], [-2.25], [-24.89]], dtype=np.float32)\n",
    "\n",
    "rotationMatrix = cv2.Rodrigues(rvec)[0]\n",
    "rmat = np.matrix(rotationMatrix)\n",
    "tmat = np.matrix(tvec)\n",
    "\n",
    "campoint = np.matrix(np.array([[-6.71], [0.23], [21.59]], dtype=np.float32))\n",
    "\n",
    "world_point = rmat ** -1 * (campoint - tmat)\n",
    "\n",
    "#to get back to camera frame\n",
    "cam_point = rmat * world_point + tmat\n",
    "print(world_point)\n",
    "print(cam_point)"
   ]
  }
 ],
 "metadata": {
  "kernelspec": {
   "display_name": "Python 3 (ipykernel)",
   "language": "python",
   "name": "python3"
  },
  "language_info": {
   "codemirror_mode": {
    "name": "ipython",
    "version": 3
   },
   "file_extension": ".py",
   "mimetype": "text/x-python",
   "name": "python",
   "nbconvert_exporter": "python",
   "pygments_lexer": "ipython3",
   "version": "3.8.8"
  }
 },
 "nbformat": 4,
 "nbformat_minor": 5
}
