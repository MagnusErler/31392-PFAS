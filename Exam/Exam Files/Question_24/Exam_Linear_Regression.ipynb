{
 "cells": [
  {
   "cell_type": "code",
   "execution_count": null,
   "metadata": {},
   "outputs": [],
   "source": [
    "import numpy as np\n",
    "import open3d as o3d\n",
    "from matplotlib import pyplot as plt\n",
    "from sklearn.linear_model import LinearRegression\n",
    "from mpl_toolkits.mplot3d import Axes3D"
   ]
  },
  {
   "cell_type": "markdown",
   "metadata": {},
   "source": [
    "# Linear regression\n",
    "Given the dataset x, y apply linear regression to find the model of the form: y = ax + b\n",
    "\n",
    "What are the values of \"a\" and \"b\" in that model?\n",
    "\n",
    "Recall: \n",
    "```{Python}\n",
    "x_reshaped = x.reshape(-1, 1) #fit needs data in this shape\n",
    "# Initialize and fit model\n",
    "lm = LinearRegression()\n",
    "model = lm.fit(input, target)\n",
    "```"
   ]
  },
  {
   "cell_type": "code",
   "execution_count": null,
   "metadata": {},
   "outputs": [],
   "source": [
    "x = np.loadtxt('lr_x.txt', dtype=float)\n",
    "y = np.loadtxt('lr_y.txt', dtype=float)\n",
    "plt.figure(figsize=(8, 6))\n",
    "plt.plot(x, y, 'ro')   # scatter plot showing actual data\n",
    "plt.xlabel('x')\n",
    "plt.ylabel('y')\n",
    "plt.show()"
   ]
  }
 ],
 "metadata": {
  "kernelspec": {
   "display_name": "Python 3",
   "language": "python",
   "name": "python3"
  },
  "language_info": {
   "codemirror_mode": {
    "name": "ipython",
    "version": 3
   },
   "file_extension": ".py",
   "mimetype": "text/x-python",
   "name": "python",
   "nbconvert_exporter": "python",
   "pygments_lexer": "ipython3",
   "version": "3.7.3"
  }
 },
 "nbformat": 4,
 "nbformat_minor": 4
}
