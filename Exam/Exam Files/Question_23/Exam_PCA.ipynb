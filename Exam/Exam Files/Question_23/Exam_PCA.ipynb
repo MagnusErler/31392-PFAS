{
 "cells": [
  {
   "cell_type": "markdown",
   "metadata": {},
   "source": [
    "# Sub-Question B - PCA\n",
    "Now perform principal component analysis on the given data. \n",
    "\n",
    "How many components do you need to express 95% of the variance?\n",
    "\n",
    "recall you call PCA:\n",
    "\n",
    "```{python}\n",
    "pca = PCA()\n",
    "pca.fit(X)\n",
    "```\n",
    "\n",
    "Documentation: https://scikit-learn.org/stable/modules/generated/sklearn.decomposition.PCA.html\n"
   ]
  }
 ],
 "metadata": {
  "kernelspec": {
   "display_name": "Python 3",
   "language": "python",
   "name": "python3"
  },
  "language_info": {
   "codemirror_mode": {
    "name": "ipython",
    "version": 3
   },
   "file_extension": ".py",
   "mimetype": "text/x-python",
   "name": "python",
   "nbconvert_exporter": "python",
   "pygments_lexer": "ipython3",
   "version": "3.7.3"
  }
 },
 "nbformat": 4,
 "nbformat_minor": 4
}
