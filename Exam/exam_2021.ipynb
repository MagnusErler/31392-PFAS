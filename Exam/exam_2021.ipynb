{
 "cells": [
  {
   "cell_type": "code",
   "execution_count": null,
   "metadata": {},
   "outputs": [],
   "source": [
    "## Question 3\n",
    "import cv2\n",
    "import numpy as np\n",
    "\n",
    "image = cv2.imread(\n",
    "    r\"C:\\Users\\larsd\\Desktop\\aa08501898e7881f246682bfad1ccb362e2b3512a7f7c466b5e68db65fda390e.jpeg\")\n",
    "# scale image down\n",
    "image = cv2.resize(image, (0, 0), fx=0.5, fy=0.5)\n",
    "# Print error message if image is null\n",
    "if image is None:\n",
    "    print('Could not read image')\n",
    "\n",
    "# Apply identity kernel\n",
    "kernel1 = np.array([[0, 0, 0],\n",
    "                    [0, 0, 0],\n",
    "                    [0, 1, 0]])\n",
    "identity = image\n",
    "for i in range(0, 50):\n",
    "    identity = cv2.filter2D(src=identity, ddepth=-1, kernel=kernel1)\n",
    "\n",
    "#miny = 200\n",
    "#maxy = 210\n",
    "\n",
    "#minx = 200\n",
    "#maxx = 210\n",
    "\n",
    "#image = image[miny:maxy, minx:maxx]\n",
    "#identity = identity[miny:maxy, minx:maxx]\n",
    "\n",
    "#image = cv2.resize(image, (0, 0), fx=50, fy=50)\n",
    "#identity = cv2.resize(identity, (0, 0), fx=50, fy=50)\n",
    "\n",
    "cv2.imshow('Original', image)\n",
    "cv2.imshow('Identity', identity)\n",
    "# diff = cv2.absdiff(image, identity)\n",
    "# cv2.imshow(\"Difference\", diff)\n",
    "cv2.waitKey()\n"
   ]
  },
  {
   "cell_type": "code",
   "execution_count": 4,
   "metadata": {},
   "outputs": [
    {
     "name": "stdout",
     "output_type": "stream",
     "text": [
      "32\n"
     ]
    }
   ],
   "source": [
    "# Question 10\n",
    "import cv2\n",
    "# convert to grayscale\n",
    "image = cv2.imread(\n",
    "    r\"C:\\Users\\larsd\\OneDrive - Danmarks Tekniske Universitet\\DTU\\Kandidat 4. Semester\\34759 Perception for Autonomous Systems\\Exam Files 2021\\Question_10\\books.png\")\n",
    "gray = cv2.cvtColor(image, cv2.COLOR_BGR2GRAY)\n",
    "canny = cv2.Canny(gray, 100, 200)\n",
    "lines = cv2.HoughLines(canny, 1, 0.0017, 200)\n",
    "print(len(lines))"
   ]
  },
  {
   "cell_type": "code",
   "execution_count": 2,
   "metadata": {},
   "outputs": [
    {
     "ename": "error",
     "evalue": "OpenCV(4.7.0) D:\\a\\opencv-python\\opencv-python\\opencv\\modules\\imgproc\\src\\corner.cpp:254: error: (-215:Assertion failed) src.type() == CV_8UC1 || src.type() == CV_32FC1 in function 'cv::cornerEigenValsVecs'\n",
     "output_type": "error",
     "traceback": [
      "\u001b[1;31m---------------------------------------------------------------------------\u001b[0m",
      "\u001b[1;31merror\u001b[0m                                     Traceback (most recent call last)",
      "Cell \u001b[1;32mIn[2], line 7\u001b[0m\n\u001b[0;32m      3\u001b[0m image \u001b[39m=\u001b[39m cv2\u001b[39m.\u001b[39mimread(\n\u001b[0;32m      4\u001b[0m     \u001b[39mr\u001b[39m\u001b[39m\"\u001b[39m\u001b[39mC:\u001b[39m\u001b[39m\\\u001b[39m\u001b[39mUsers\u001b[39m\u001b[39m\\\u001b[39m\u001b[39mlarsd\u001b[39m\u001b[39m\\\u001b[39m\u001b[39mOneDrive - Danmarks Tekniske Universitet\u001b[39m\u001b[39m\\\u001b[39m\u001b[39mDTU\u001b[39m\u001b[39m\\\u001b[39m\u001b[39mKandidat 4. Semester\u001b[39m\u001b[39m\\\u001b[39m\u001b[39m34759 Perception for Autonomous Systems\u001b[39m\u001b[39m\\\u001b[39m\u001b[39mExam Files 2021\u001b[39m\u001b[39m\\\u001b[39m\u001b[39mQuestion_11\u001b[39m\u001b[39m\\\u001b[39m\u001b[39mbooks.png\u001b[39m\u001b[39m\"\u001b[39m)\n\u001b[0;32m      5\u001b[0m \u001b[39m# cv2.imshow('Identity', image)\u001b[39;00m\n\u001b[0;32m      6\u001b[0m \u001b[39m# cv2.waitKey()\u001b[39;00m\n\u001b[1;32m----> 7\u001b[0m cv2\u001b[39m.\u001b[39;49mcornerHarris(image, \u001b[39m2\u001b[39;49m, \u001b[39m3\u001b[39;49m, \u001b[39m0.04\u001b[39;49m)\n",
      "\u001b[1;31merror\u001b[0m: OpenCV(4.7.0) D:\\a\\opencv-python\\opencv-python\\opencv\\modules\\imgproc\\src\\corner.cpp:254: error: (-215:Assertion failed) src.type() == CV_8UC1 || src.type() == CV_32FC1 in function 'cv::cornerEigenValsVecs'\n"
     ]
    }
   ],
   "source": [
    "# Question 11\n",
    "import cv2\n",
    "image = cv2.imread(\n",
    "    r\"C:\\Users\\larsd\\OneDrive - Danmarks Tekniske Universitet\\DTU\\Kandidat 4. Semester\\34759 Perception for Autonomous Systems\\Exam Files 2021\\Question_11\\books.png\")\n",
    "# cv2.imshow('Identity', image)\n",
    "# cv2.waitKey()\n",
    "cv2.cornerHarris(image, 2, 3, 0.04)\n"
   ]
  }
 ],
 "metadata": {
  "kernelspec": {
   "display_name": "Python 3",
   "language": "python",
   "name": "python3"
  },
  "language_info": {
   "codemirror_mode": {
    "name": "ipython",
    "version": 3
   },
   "file_extension": ".py",
   "mimetype": "text/x-python",
   "name": "python",
   "nbconvert_exporter": "python",
   "pygments_lexer": "ipython3",
   "version": "3.10.5"
  },
  "orig_nbformat": 4
 },
 "nbformat": 4,
 "nbformat_minor": 2
}
